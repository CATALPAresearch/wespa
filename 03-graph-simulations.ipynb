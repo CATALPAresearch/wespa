{
 "cells": [
  {
   "cell_type": "markdown",
   "metadata": {},
   "source": [
    "# Ideal Group"
   ]
  },
  {
   "cell_type": "code",
   "execution_count": null,
   "metadata": {},
   "outputs": [],
   "source": [
    "# Re-import necessary libraries since execution state was reset\n",
    "import json\n",
    "\n",
    "# Given graph data\n",
    "graph_data = {\n",
    "    \"last_modified\": 1733786132,\n",
    "    \"nodes\": [\n",
    "        {\"id\": 1, \"group\": 1},\n",
    "        {\"id\": 2, \"group\": 1},\n",
    "        {\"id\": 3, \"group\": 1},\n",
    "        {\"id\": 4, \"group\": 1},\n",
    "        {\"id\": 5, \"group\": 1},\n",
    "        {\"id\": 6, \"group\": 1},\n",
    "        {\"id\": 7, \"group\": 1},\n",
    "        {\"id\": 8, \"group\": 1}\n",
    "    ],\n",
    "    \"links\": [\n",
    "        \n",
    "    ]\n",
    "}\n",
    "\n",
    "# Extracting node IDs\n",
    "node_ids = [node[\"id\"] for node in graph_data[\"nodes\"]]\n",
    "\n",
    "# Creating a fully connected bi-directional graph\n",
    "bi_directional_links = []\n",
    "for i in range(len(node_ids)):\n",
    "    for j in range(i + 1, len(node_ids)):  # Ensure every node is connected to every other node\n",
    "        bi_directional_links.append({\"source\": node_ids[i], \"target\": node_ids[j], \"value\": 1})\n",
    "        bi_directional_links.append({\"source\": node_ids[j], \"target\": node_ids[i], \"value\": 1})\n",
    "\n",
    "# Constructing the new graph\n",
    "fully_connected_graph = {\n",
    "    \"last_modified\": graph_data[\"last_modified\"],\n",
    "    \"nodes\": graph_data[\"nodes\"],  # Keeping the same nodes\n",
    "    \"links\": bi_directional_links  # Fully connected bi-directional links\n",
    "}\n",
    "\n",
    "# Display the new graph structure\n",
    "print(json.dumps(fully_connected_graph, indent=2))\n",
    "\n",
    "file_path = \"output/graph-simulations/g0.json\"\n",
    "\n",
    "# Write the JSON data to a file\n",
    "with open(file_path, \"w\") as json_file:\n",
    "    json.dump(fully_connected_graph, json_file, indent=2)\n"
   ]
  }
 ],
 "metadata": {
  "kernelspec": {
   "display_name": "Python 3",
   "language": "python",
   "name": "python3"
  },
  "language_info": {
   "codemirror_mode": {
    "name": "ipython",
    "version": 3
   },
   "file_extension": ".py",
   "mimetype": "text/x-python",
   "name": "python",
   "nbconvert_exporter": "python",
   "pygments_lexer": "ipython3",
   "version": "3.11.6"
  }
 },
 "nbformat": 4,
 "nbformat_minor": 2
}
